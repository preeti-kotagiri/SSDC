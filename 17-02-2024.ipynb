{
 "cells": [
  {
   "cell_type": "markdown",
   "id": "f09cdd78",
   "metadata": {},
   "source": [
    "### Dictionary:"
   ]
  },
  {
   "cell_type": "code",
   "execution_count": 1,
   "id": "84814d4f",
   "metadata": {},
   "outputs": [],
   "source": [
    "dict1 = {'name':'preeti','emp_id':123}"
   ]
  },
  {
   "cell_type": "code",
   "execution_count": 2,
   "id": "00549111",
   "metadata": {},
   "outputs": [],
   "source": [
    "#Adding a new entry\n",
    "dict1['loc'] = 'Hyd'"
   ]
  },
  {
   "cell_type": "code",
   "execution_count": 3,
   "id": "4d853885",
   "metadata": {},
   "outputs": [
    {
     "data": {
      "text/plain": [
       "{'name': 'preeti', 'emp_id': 123, 'loc': 'Hyd'}"
      ]
     },
     "execution_count": 3,
     "metadata": {},
     "output_type": "execute_result"
    }
   ],
   "source": [
    "dict1"
   ]
  },
  {
   "cell_type": "code",
   "execution_count": 4,
   "id": "e68d6797",
   "metadata": {},
   "outputs": [],
   "source": [
    "#Removing an entry\n",
    "del dict1['emp_id']"
   ]
  },
  {
   "cell_type": "code",
   "execution_count": 5,
   "id": "30f5a450",
   "metadata": {},
   "outputs": [
    {
     "data": {
      "text/plain": [
       "{'name': 'preeti', 'loc': 'Hyd'}"
      ]
     },
     "execution_count": 5,
     "metadata": {},
     "output_type": "execute_result"
    }
   ],
   "source": [
    "dict1"
   ]
  },
  {
   "cell_type": "code",
   "execution_count": 6,
   "id": "bac35bcd",
   "metadata": {},
   "outputs": [],
   "source": [
    "#Updating a dictionary\n",
    "dict1['name'] = 'sivani'"
   ]
  },
  {
   "cell_type": "code",
   "execution_count": 7,
   "id": "16954be5",
   "metadata": {},
   "outputs": [
    {
     "data": {
      "text/plain": [
       "{'name': 'sivani', 'loc': 'Hyd'}"
      ]
     },
     "execution_count": 7,
     "metadata": {},
     "output_type": "execute_result"
    }
   ],
   "source": [
    "dict1"
   ]
  },
  {
   "cell_type": "code",
   "execution_count": 8,
   "id": "b0b13409",
   "metadata": {},
   "outputs": [
    {
     "data": {
      "text/plain": [
       "{'name': 'sivani', 'loc': 'Hyd'}"
      ]
     },
     "execution_count": 8,
     "metadata": {},
     "output_type": "execute_result"
    }
   ],
   "source": [
    "dict1"
   ]
  },
  {
   "cell_type": "code",
   "execution_count": 9,
   "id": "522d4150",
   "metadata": {},
   "outputs": [],
   "source": [
    "dict2 = {'emp_id':1}"
   ]
  },
  {
   "cell_type": "code",
   "execution_count": 10,
   "id": "ed640dc8",
   "metadata": {},
   "outputs": [
    {
     "data": {
      "text/plain": [
       "{'emp_id': 1}"
      ]
     },
     "execution_count": 10,
     "metadata": {},
     "output_type": "execute_result"
    }
   ],
   "source": [
    "dict2"
   ]
  },
  {
   "cell_type": "code",
   "execution_count": 11,
   "id": "546bc39b",
   "metadata": {},
   "outputs": [
    {
     "ename": "TypeError",
     "evalue": "unsupported operand type(s) for +: 'dict' and 'dict'",
     "output_type": "error",
     "traceback": [
      "\u001b[1;31m---------------------------------------------------------------------------\u001b[0m",
      "\u001b[1;31mTypeError\u001b[0m                                 Traceback (most recent call last)",
      "Cell \u001b[1;32mIn[11], line 1\u001b[0m\n\u001b[1;32m----> 1\u001b[0m dict1 \u001b[38;5;241m+\u001b[39m dict2\n",
      "\u001b[1;31mTypeError\u001b[0m: unsupported operand type(s) for +: 'dict' and 'dict'"
     ]
    }
   ],
   "source": [
    "dict1 + dict2"
   ]
  },
  {
   "cell_type": "code",
   "execution_count": 12,
   "id": "ffc3a7a7",
   "metadata": {},
   "outputs": [
    {
     "ename": "TypeError",
     "evalue": "unsupported operand type(s) for -: 'dict' and 'dict'",
     "output_type": "error",
     "traceback": [
      "\u001b[1;31m---------------------------------------------------------------------------\u001b[0m",
      "\u001b[1;31mTypeError\u001b[0m                                 Traceback (most recent call last)",
      "Cell \u001b[1;32mIn[12], line 1\u001b[0m\n\u001b[1;32m----> 1\u001b[0m dict1 \u001b[38;5;241m-\u001b[39m dict2\n",
      "\u001b[1;31mTypeError\u001b[0m: unsupported operand type(s) for -: 'dict' and 'dict'"
     ]
    }
   ],
   "source": [
    "dict1 - dict2"
   ]
  },
  {
   "cell_type": "code",
   "execution_count": 13,
   "id": "db1a7019",
   "metadata": {},
   "outputs": [
    {
     "ename": "TypeError",
     "evalue": "unsupported operand type(s) for *: 'dict' and 'int'",
     "output_type": "error",
     "traceback": [
      "\u001b[1;31m---------------------------------------------------------------------------\u001b[0m",
      "\u001b[1;31mTypeError\u001b[0m                                 Traceback (most recent call last)",
      "Cell \u001b[1;32mIn[13], line 1\u001b[0m\n\u001b[1;32m----> 1\u001b[0m dict1 \u001b[38;5;241m*\u001b[39m \u001b[38;5;241m2\u001b[39m\n",
      "\u001b[1;31mTypeError\u001b[0m: unsupported operand type(s) for *: 'dict' and 'int'"
     ]
    }
   ],
   "source": [
    "dict1 * 2"
   ]
  },
  {
   "cell_type": "code",
   "execution_count": 14,
   "id": "95bf1888",
   "metadata": {},
   "outputs": [
    {
     "data": {
      "text/plain": [
       "{'name': 'sivani', 'loc': 'Hyd'}"
      ]
     },
     "execution_count": 14,
     "metadata": {},
     "output_type": "execute_result"
    }
   ],
   "source": [
    "#Accessing value from the dictionary\n",
    "dict1"
   ]
  },
  {
   "cell_type": "code",
   "execution_count": 15,
   "id": "20db3402",
   "metadata": {},
   "outputs": [
    {
     "data": {
      "text/plain": [
       "'sivani'"
      ]
     },
     "execution_count": 15,
     "metadata": {},
     "output_type": "execute_result"
    }
   ],
   "source": [
    "dict1['name']"
   ]
  },
  {
   "cell_type": "code",
   "execution_count": 16,
   "id": "3f38049d",
   "metadata": {},
   "outputs": [
    {
     "data": {
      "text/plain": [
       "False"
      ]
     },
     "execution_count": 16,
     "metadata": {},
     "output_type": "execute_result"
    }
   ],
   "source": [
    "#Membership operators\n",
    "'Hyd' in dict1"
   ]
  },
  {
   "cell_type": "code",
   "execution_count": 17,
   "id": "90a37e35",
   "metadata": {},
   "outputs": [
    {
     "data": {
      "text/plain": [
       "True"
      ]
     },
     "execution_count": 17,
     "metadata": {},
     "output_type": "execute_result"
    }
   ],
   "source": [
    "'loc' in dict1"
   ]
  },
  {
   "cell_type": "markdown",
   "id": "037fb4cb",
   "metadata": {},
   "source": [
    "### Built-in functions:\n",
    "1. len()\n",
    "2. min()\n",
    "3. max()\n",
    "4. dict()"
   ]
  },
  {
   "cell_type": "code",
   "execution_count": 18,
   "id": "b0976cbf",
   "metadata": {},
   "outputs": [
    {
     "data": {
      "text/plain": [
       "2"
      ]
     },
     "execution_count": 18,
     "metadata": {},
     "output_type": "execute_result"
    }
   ],
   "source": [
    "len(dict1)"
   ]
  },
  {
   "cell_type": "code",
   "execution_count": 19,
   "id": "0d359fdf",
   "metadata": {},
   "outputs": [
    {
     "data": {
      "text/plain": [
       "'loc'"
      ]
     },
     "execution_count": 19,
     "metadata": {},
     "output_type": "execute_result"
    }
   ],
   "source": [
    "min(dict1)"
   ]
  },
  {
   "cell_type": "code",
   "execution_count": 20,
   "id": "54fe3602",
   "metadata": {},
   "outputs": [
    {
     "data": {
      "text/plain": [
       "'name'"
      ]
     },
     "execution_count": 20,
     "metadata": {},
     "output_type": "execute_result"
    }
   ],
   "source": [
    "max(dict1)"
   ]
  },
  {
   "cell_type": "code",
   "execution_count": 21,
   "id": "d2f91200",
   "metadata": {},
   "outputs": [
    {
     "data": {
      "text/plain": [
       "['__class__',\n",
       " '__class_getitem__',\n",
       " '__contains__',\n",
       " '__delattr__',\n",
       " '__delitem__',\n",
       " '__dir__',\n",
       " '__doc__',\n",
       " '__eq__',\n",
       " '__format__',\n",
       " '__ge__',\n",
       " '__getattribute__',\n",
       " '__getitem__',\n",
       " '__getstate__',\n",
       " '__gt__',\n",
       " '__hash__',\n",
       " '__init__',\n",
       " '__init_subclass__',\n",
       " '__ior__',\n",
       " '__iter__',\n",
       " '__le__',\n",
       " '__len__',\n",
       " '__lt__',\n",
       " '__ne__',\n",
       " '__new__',\n",
       " '__or__',\n",
       " '__reduce__',\n",
       " '__reduce_ex__',\n",
       " '__repr__',\n",
       " '__reversed__',\n",
       " '__ror__',\n",
       " '__setattr__',\n",
       " '__setitem__',\n",
       " '__sizeof__',\n",
       " '__str__',\n",
       " '__subclasshook__',\n",
       " 'clear',\n",
       " 'copy',\n",
       " 'fromkeys',\n",
       " 'get',\n",
       " 'items',\n",
       " 'keys',\n",
       " 'pop',\n",
       " 'popitem',\n",
       " 'setdefault',\n",
       " 'update',\n",
       " 'values']"
      ]
     },
     "execution_count": 21,
     "metadata": {},
     "output_type": "execute_result"
    }
   ],
   "source": [
    "dir(dict)"
   ]
  },
  {
   "cell_type": "code",
   "execution_count": 22,
   "id": "1dd4d452",
   "metadata": {},
   "outputs": [
    {
     "data": {
      "text/plain": [
       "{'name': 'sivani', 'loc': 'Hyd'}"
      ]
     },
     "execution_count": 22,
     "metadata": {},
     "output_type": "execute_result"
    }
   ],
   "source": [
    "dict1"
   ]
  },
  {
   "cell_type": "code",
   "execution_count": 23,
   "id": "94926880",
   "metadata": {},
   "outputs": [
    {
     "data": {
      "text/plain": [
       "dict_keys(['name', 'loc'])"
      ]
     },
     "execution_count": 23,
     "metadata": {},
     "output_type": "execute_result"
    }
   ],
   "source": [
    "dict1.keys()"
   ]
  },
  {
   "cell_type": "code",
   "execution_count": 24,
   "id": "a0015eda",
   "metadata": {},
   "outputs": [
    {
     "data": {
      "text/plain": [
       "dict_values(['sivani', 'Hyd'])"
      ]
     },
     "execution_count": 24,
     "metadata": {},
     "output_type": "execute_result"
    }
   ],
   "source": [
    "dict1.values()"
   ]
  },
  {
   "cell_type": "code",
   "execution_count": 25,
   "id": "b8604812",
   "metadata": {},
   "outputs": [
    {
     "data": {
      "text/plain": [
       "dict_items([('name', 'sivani'), ('loc', 'Hyd')])"
      ]
     },
     "execution_count": 25,
     "metadata": {},
     "output_type": "execute_result"
    }
   ],
   "source": [
    "dict1.items()"
   ]
  },
  {
   "cell_type": "code",
   "execution_count": 26,
   "id": "1563e7e7",
   "metadata": {},
   "outputs": [
    {
     "data": {
      "text/plain": [
       "'sivani'"
      ]
     },
     "execution_count": 26,
     "metadata": {},
     "output_type": "execute_result"
    }
   ],
   "source": [
    "dict1['name']"
   ]
  },
  {
   "cell_type": "code",
   "execution_count": 27,
   "id": "36980e23",
   "metadata": {},
   "outputs": [
    {
     "data": {
      "text/plain": [
       "'sivani'"
      ]
     },
     "execution_count": 27,
     "metadata": {},
     "output_type": "execute_result"
    }
   ],
   "source": [
    "dict1.get('name')"
   ]
  },
  {
   "cell_type": "code",
   "execution_count": 28,
   "id": "7b7a792d",
   "metadata": {},
   "outputs": [],
   "source": [
    "#Adding entry/entries\n",
    "dict1.update({'emp_id':123})"
   ]
  },
  {
   "cell_type": "code",
   "execution_count": 29,
   "id": "22497828",
   "metadata": {},
   "outputs": [
    {
     "data": {
      "text/plain": [
       "{'name': 'sivani', 'loc': 'Hyd', 'emp_id': 123}"
      ]
     },
     "execution_count": 29,
     "metadata": {},
     "output_type": "execute_result"
    }
   ],
   "source": [
    "dict1"
   ]
  },
  {
   "cell_type": "code",
   "execution_count": 30,
   "id": "443d1764",
   "metadata": {},
   "outputs": [
    {
     "data": {
      "text/plain": [
       "'Hyd'"
      ]
     },
     "execution_count": 30,
     "metadata": {},
     "output_type": "execute_result"
    }
   ],
   "source": [
    "#Removing entry\n",
    "dict1.pop('loc')"
   ]
  },
  {
   "cell_type": "code",
   "execution_count": 31,
   "id": "3ec822fd",
   "metadata": {},
   "outputs": [
    {
     "data": {
      "text/plain": [
       "{'name': 'sivani', 'emp_id': 123}"
      ]
     },
     "execution_count": 31,
     "metadata": {},
     "output_type": "execute_result"
    }
   ],
   "source": [
    "dict1"
   ]
  },
  {
   "cell_type": "code",
   "execution_count": 32,
   "id": "7549de4d",
   "metadata": {},
   "outputs": [
    {
     "data": {
      "text/plain": [
       "('emp_id', 123)"
      ]
     },
     "execution_count": 32,
     "metadata": {},
     "output_type": "execute_result"
    }
   ],
   "source": [
    "dict1.popitem()"
   ]
  },
  {
   "cell_type": "code",
   "execution_count": 33,
   "id": "2169927d",
   "metadata": {},
   "outputs": [
    {
     "data": {
      "text/plain": [
       "{'name': 'sivani'}"
      ]
     },
     "execution_count": 33,
     "metadata": {},
     "output_type": "execute_result"
    }
   ],
   "source": [
    "dict1"
   ]
  },
  {
   "cell_type": "code",
   "execution_count": 34,
   "id": "da7e0caa",
   "metadata": {},
   "outputs": [
    {
     "data": {
      "text/plain": [
       "{'name': 'sivani'}"
      ]
     },
     "execution_count": 34,
     "metadata": {},
     "output_type": "execute_result"
    }
   ],
   "source": [
    "dict1"
   ]
  },
  {
   "cell_type": "code",
   "execution_count": 35,
   "id": "0e504a49",
   "metadata": {},
   "outputs": [
    {
     "data": {
      "text/plain": [
       "'Hyd'"
      ]
     },
     "execution_count": 35,
     "metadata": {},
     "output_type": "execute_result"
    }
   ],
   "source": [
    "#setdefault\n",
    "dict1.setdefault('loc','Hyd')"
   ]
  },
  {
   "cell_type": "code",
   "execution_count": 36,
   "id": "a9c5ba0d",
   "metadata": {},
   "outputs": [
    {
     "data": {
      "text/plain": [
       "{'name': 'sivani', 'loc': 'Hyd'}"
      ]
     },
     "execution_count": 36,
     "metadata": {},
     "output_type": "execute_result"
    }
   ],
   "source": [
    "dict1"
   ]
  },
  {
   "cell_type": "code",
   "execution_count": 37,
   "id": "a2237545",
   "metadata": {},
   "outputs": [
    {
     "data": {
      "text/plain": [
       "'sivani'"
      ]
     },
     "execution_count": 37,
     "metadata": {},
     "output_type": "execute_result"
    }
   ],
   "source": [
    "dict1.setdefault('name','preeti')"
   ]
  },
  {
   "cell_type": "code",
   "execution_count": 38,
   "id": "1e452e4a",
   "metadata": {},
   "outputs": [
    {
     "data": {
      "text/plain": [
       "{'name': 'sivani', 'loc': 'Hyd'}"
      ]
     },
     "execution_count": 38,
     "metadata": {},
     "output_type": "execute_result"
    }
   ],
   "source": [
    "dict1"
   ]
  },
  {
   "cell_type": "code",
   "execution_count": 39,
   "id": "814851e4",
   "metadata": {},
   "outputs": [
    {
     "data": {
      "text/plain": [
       "{'a': 10, 'b': 10, 'c': 10}"
      ]
     },
     "execution_count": 39,
     "metadata": {},
     "output_type": "execute_result"
    }
   ],
   "source": [
    "dict1.fromkeys(['a','b','c'],10)"
   ]
  },
  {
   "cell_type": "markdown",
   "id": "11d717ae",
   "metadata": {},
   "source": [
    "### Control flow statements:\n",
    "#### conditional control statements:\n",
    "1. if\n",
    "2. else\n",
    "3. elif\n",
    "#### Looping statements\n",
    "1. while\n",
    "2. for\n",
    "#### Loop control statements:\n",
    "1. break\n",
    "2. continue\n",
    "#### empty block creation\n",
    "1. pass"
   ]
  },
  {
   "cell_type": "markdown",
   "id": "612e1943",
   "metadata": {},
   "source": [
    "Check whether the given number is even or odd."
   ]
  },
  {
   "cell_type": "code",
   "execution_count": 43,
   "id": "aced39f1",
   "metadata": {},
   "outputs": [
    {
     "name": "stdout",
     "output_type": "stream",
     "text": [
      "Enter a number:15\n",
      "Odd\n"
     ]
    }
   ],
   "source": [
    "x = int(input(\"Enter a number:\"))\n",
    "if x % 2 == 0:\n",
    "    print(\"Even\")\n",
    "else:\n",
    "    print(\"Odd\")"
   ]
  },
  {
   "cell_type": "markdown",
   "id": "bddeee6b",
   "metadata": {},
   "source": [
    "check whether the given number is +ve,-ve or 0"
   ]
  },
  {
   "cell_type": "code",
   "execution_count": 46,
   "id": "8371cb4a",
   "metadata": {},
   "outputs": [
    {
     "name": "stdout",
     "output_type": "stream",
     "text": [
      "Enter a number:0\n",
      "Zero\n"
     ]
    }
   ],
   "source": [
    "x = int(input(\"Enter a number:\"))\n",
    "if x > 0:\n",
    "    print(\"+ve\")\n",
    "elif x < 0:\n",
    "    print(\"-ve\")\n",
    "else:\n",
    "    print(\"Zero\")"
   ]
  },
  {
   "cell_type": "markdown",
   "id": "f9b19129",
   "metadata": {},
   "source": [
    "1. Accept 3 subjects marks of a student\n",
    "2. check whether he got >35 marks in all subjects then calculate avg else display 'F'\n",
    "3. if avg >= 75 ==> 'A' ,avg < 75 and avg >= 65 ==> 'B',avg < 65 and avg >= 35 ==> 'C'"
   ]
  },
  {
   "cell_type": "code",
   "execution_count": 47,
   "id": "283ecdef",
   "metadata": {},
   "outputs": [
    {
     "name": "stdout",
     "output_type": "stream",
     "text": [
      "Enter sub1 marks:50\n",
      "Enter sub2 marks:45\n",
      "Enter sub3 marks:36\n",
      "C\n"
     ]
    }
   ],
   "source": [
    "m1 = int(input(\"Enter sub1 marks:\"))\n",
    "m2 = int(input(\"Enter sub2 marks:\"))\n",
    "m3 = int(input(\"Enter sub3 marks:\"))\n",
    "if m1 > 35 and m2 > 35 and m3 > 35:\n",
    "    avg = (m1 + m2 + m3)/3\n",
    "    if avg >= 75:\n",
    "        print('A')\n",
    "    elif avg < 75 and avg >= 65:\n",
    "        print('B')\n",
    "    elif avg < 65 and avg > 35:\n",
    "        print('C')\n",
    "else:\n",
    "    print(\"F\")"
   ]
  },
  {
   "cell_type": "code",
   "execution_count": 48,
   "id": "84b05091",
   "metadata": {},
   "outputs": [
    {
     "name": "stdout",
     "output_type": "stream",
     "text": [
      "Enter sub1 marks:36\n",
      "Enter sub2 marks:99\n",
      "Enter sub3 marks:99\n",
      "A\n"
     ]
    }
   ],
   "source": [
    "m1 = int(input(\"Enter sub1 marks:\"))\n",
    "m2 = int(input(\"Enter sub2 marks:\"))\n",
    "m3 = int(input(\"Enter sub3 marks:\"))\n",
    "if m1 > 35 and m2 > 35 and m3 > 35:\n",
    "    avg = (m1 + m2 + m3)/3\n",
    "    if avg < 65 and avg > 35:\n",
    "        print('C')\n",
    "    elif avg < 75 and avg >= 65:\n",
    "        print('B')\n",
    "    elif avg >= 75:\n",
    "        print('A')\n",
    "else:\n",
    "    print(\"F\")"
   ]
  },
  {
   "cell_type": "markdown",
   "id": "734c8d88",
   "metadata": {},
   "source": [
    "### Loops:"
   ]
  },
  {
   "cell_type": "code",
   "execution_count": 50,
   "id": "3e84796f",
   "metadata": {},
   "outputs": [
    {
     "name": "stdout",
     "output_type": "stream",
     "text": [
      "Hello world\n",
      "Hello world\n",
      "Hello world\n",
      "Hello world\n",
      "Hello world\n"
     ]
    }
   ],
   "source": [
    "print(\"Hello world\")\n",
    "print(\"Hello world\")\n",
    "print(\"Hello world\")\n",
    "print(\"Hello world\")\n",
    "print(\"Hello world\")"
   ]
  },
  {
   "cell_type": "code",
   "execution_count": 51,
   "id": "e70d5344",
   "metadata": {},
   "outputs": [
    {
     "name": "stdout",
     "output_type": "stream",
     "text": [
      "Hello world\n",
      "Hello world\n",
      "Hello world\n",
      "Hello world\n",
      "Hello world\n"
     ]
    }
   ],
   "source": [
    "i = 1\n",
    "while i <= 5:\n",
    "    print(\"Hello world\")\n",
    "    i += 1 "
   ]
  },
  {
   "cell_type": "code",
   "execution_count": null,
   "id": "8fd07ca4",
   "metadata": {},
   "outputs": [],
   "source": [
    "n = int(input(\"Enter a number\"))\n",
    "i = 5\n",
    "while i >= n:\n",
    "    print"
   ]
  },
  {
   "cell_type": "code",
   "execution_count": 55,
   "id": "a42e7a0a",
   "metadata": {},
   "outputs": [
    {
     "name": "stdout",
     "output_type": "stream",
     "text": [
      "Enter a number:5\n",
      "1 2 3 4 5 "
     ]
    }
   ],
   "source": [
    "n = int(input(\"Enter a number:\"))\n",
    "i = 1\n",
    "while i <= n:\n",
    "    print(i,end= \" \")\n",
    "    i += 1"
   ]
  },
  {
   "cell_type": "markdown",
   "id": "95b98933",
   "metadata": {},
   "source": [
    "### for loop:\n",
    "1. for loop using range(start,stop,step)\n",
    "2. for loop using iterable object"
   ]
  },
  {
   "cell_type": "code",
   "execution_count": 56,
   "id": "6a1e2f45",
   "metadata": {},
   "outputs": [
    {
     "name": "stdout",
     "output_type": "stream",
     "text": [
      "Hello world\n",
      "Hello world\n",
      "Hello world\n",
      "Hello world\n",
      "Hello world\n"
     ]
    }
   ],
   "source": [
    "for i in range(5):\n",
    "    print(\"Hello world\")"
   ]
  },
  {
   "cell_type": "code",
   "execution_count": 57,
   "id": "c2fcf74d",
   "metadata": {},
   "outputs": [],
   "source": [
    "li = [10,20,30,40,50]"
   ]
  },
  {
   "cell_type": "code",
   "execution_count": 61,
   "id": "d1193573",
   "metadata": {
    "collapsed": true
   },
   "outputs": [
    {
     "name": "stdout",
     "output_type": "stream",
     "text": [
      "10\n",
      "20\n",
      "30\n",
      "40\n",
      "50\n"
     ]
    }
   ],
   "source": [
    "#Displaying list elements using while loop\n",
    "i = 0\n",
    "while i < len(li):\n",
    "    print(li[i])\n",
    "    i += 1"
   ]
  },
  {
   "cell_type": "code",
   "execution_count": 62,
   "id": "6565e509",
   "metadata": {
    "collapsed": true
   },
   "outputs": [
    {
     "name": "stdout",
     "output_type": "stream",
     "text": [
      "10\n",
      "20\n",
      "30\n",
      "40\n",
      "50\n"
     ]
    }
   ],
   "source": [
    "for i in range(0,len(li)):\n",
    "    print(li[i])"
   ]
  },
  {
   "cell_type": "code",
   "execution_count": 63,
   "id": "c68dba46",
   "metadata": {
    "collapsed": true
   },
   "outputs": [
    {
     "name": "stdout",
     "output_type": "stream",
     "text": [
      "10\n",
      "20\n",
      "30\n",
      "40\n",
      "50\n"
     ]
    }
   ],
   "source": [
    "for i in li:\n",
    "    print(i)"
   ]
  },
  {
   "cell_type": "markdown",
   "id": "8ffa8ef5",
   "metadata": {},
   "source": [
    "Input : [10,12,24,26,39,45,79,84,100,111]\n",
    "output: [10,12,24,26,84,100]"
   ]
  },
  {
   "cell_type": "code",
   "execution_count": 65,
   "id": "883e153b",
   "metadata": {
    "collapsed": true
   },
   "outputs": [
    {
     "name": "stdout",
     "output_type": "stream",
     "text": [
      "1\n",
      "2\n",
      "3\n",
      "4\n"
     ]
    }
   ],
   "source": [
    "for i in range(1,11):\n",
    "    if i == 5:\n",
    "        break\n",
    "    else:\n",
    "        print(i)"
   ]
  },
  {
   "cell_type": "code",
   "execution_count": 66,
   "id": "3adca9bf",
   "metadata": {
    "collapsed": true
   },
   "outputs": [
    {
     "name": "stdout",
     "output_type": "stream",
     "text": [
      "1\n",
      "2\n",
      "3\n",
      "4\n",
      "6\n",
      "7\n",
      "8\n",
      "9\n",
      "10\n"
     ]
    }
   ],
   "source": [
    "for i in range(1,11):\n",
    "    if i == 5:\n",
    "        continue\n",
    "    else:\n",
    "        print(i)"
   ]
  },
  {
   "cell_type": "markdown",
   "id": "c9a8c906",
   "metadata": {},
   "source": [
    "### Exercise:\n",
    "1. Accept user name and password from the user\n",
    "2. create a dictionary with user_name and passwords as entries {user_name:password}\n",
    "3. If user does not exist in the dictionary create a new user else do nothing\n",
    "4. Then check the password given by the user if it is correct show a message saying login successful\n",
    "5. If password is incorrect give 3 chances to give password \n",
    "6. If user gives correct password in these three chances then login successful message will be dislayed else login was unsuccessful message."
   ]
  },
  {
   "cell_type": "code",
   "execution_count": null,
   "id": "36247656",
   "metadata": {},
   "outputs": [],
   "source": []
  }
 ],
 "metadata": {
  "kernelspec": {
   "display_name": "Python 3 (ipykernel)",
   "language": "python",
   "name": "python3"
  },
  "language_info": {
   "codemirror_mode": {
    "name": "ipython",
    "version": 3
   },
   "file_extension": ".py",
   "mimetype": "text/x-python",
   "name": "python",
   "nbconvert_exporter": "python",
   "pygments_lexer": "ipython3",
   "version": "3.11.5"
  }
 },
 "nbformat": 4,
 "nbformat_minor": 5
}
