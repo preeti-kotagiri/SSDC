{
 "cells": [
  {
   "cell_type": "markdown",
   "id": "32157db0",
   "metadata": {},
   "source": [
    "### Topics:\n",
    "1. Ternary operator\n",
    "2. Global and Local varibales\n",
    "3. random module\n",
    "4. pip statement usage\n",
    "5. Exception handling\n",
    "6. OOP's concepts"
   ]
  },
  {
   "cell_type": "code",
   "execution_count": 1,
   "id": "24b120f8",
   "metadata": {},
   "outputs": [
    {
     "name": "stdout",
     "output_type": "stream",
     "text": [
      "5\n",
      "15\n",
      "10\n",
      "-14\n",
      "52\n",
      "3\n"
     ]
    }
   ],
   "source": [
    "#Bitwise operators ==> &,|,^,~,<<,>>\n",
    "a = 13\n",
    "b = 7\n",
    "print(a & b)\n",
    "print(a | b)\n",
    "print(a ^ b)\n",
    "print(~a)\n",
    "print(a << 2)\n",
    "print(a >> 2)"
   ]
  },
  {
   "cell_type": "code",
   "execution_count": 2,
   "id": "5fd01f50",
   "metadata": {},
   "outputs": [
    {
     "name": "stdout",
     "output_type": "stream",
     "text": [
      "False\n",
      "True\n"
     ]
    }
   ],
   "source": [
    "x = 10\n",
    "y = 20 \n",
    "z = 10\n",
    "print(x is y)\n",
    "print(x is z)"
   ]
  },
  {
   "cell_type": "code",
   "execution_count": 3,
   "id": "d054a36d",
   "metadata": {},
   "outputs": [
    {
     "data": {
      "text/plain": [
       "True"
      ]
     },
     "execution_count": 3,
     "metadata": {},
     "output_type": "execute_result"
    }
   ],
   "source": [
    "x+z is y"
   ]
  },
  {
   "cell_type": "code",
   "execution_count": 4,
   "id": "436b470c",
   "metadata": {},
   "outputs": [
    {
     "name": "stdout",
     "output_type": "stream",
     "text": [
      "140704816600136 140704816600456 140704816600136\n"
     ]
    }
   ],
   "source": [
    "print(id(x),id(y),id(z))"
   ]
  },
  {
   "cell_type": "markdown",
   "id": "290956c7",
   "metadata": {},
   "source": [
    "### Ternary operator"
   ]
  },
  {
   "cell_type": "code",
   "execution_count": 5,
   "id": "d75c3ebc",
   "metadata": {},
   "outputs": [
    {
     "name": "stdout",
     "output_type": "stream",
     "text": [
      "Enter a number:12\n",
      "Even\n"
     ]
    }
   ],
   "source": [
    "n = int(input(\"Enter a number:\"))\n",
    "if n%2 == 0:\n",
    "    print(\"Even\")\n",
    "else:\n",
    "    print(\"Odd\")"
   ]
  },
  {
   "cell_type": "code",
   "execution_count": 7,
   "id": "cba914e4",
   "metadata": {},
   "outputs": [
    {
     "name": "stdout",
     "output_type": "stream",
     "text": [
      "Even\n"
     ]
    }
   ],
   "source": [
    "print(\"Even\") if n%2 == 0 else print(\"Odd\")"
   ]
  },
  {
   "cell_type": "markdown",
   "id": "97234433",
   "metadata": {},
   "source": [
    "### scope of variable"
   ]
  },
  {
   "cell_type": "code",
   "execution_count": 11,
   "id": "2788cae8",
   "metadata": {},
   "outputs": [],
   "source": [
    "roll_no = 10 # roll_no is Global variable\n",
    "def display(name): # name is local variable\n",
    "    print(\"The name is:\",name,\"Roll number is\",roll_no)"
   ]
  },
  {
   "cell_type": "code",
   "execution_count": 12,
   "id": "8396f1b1",
   "metadata": {},
   "outputs": [
    {
     "name": "stdout",
     "output_type": "stream",
     "text": [
      "The name is: preeti Roll number is 10\n"
     ]
    }
   ],
   "source": [
    "display(\"preeti\")"
   ]
  },
  {
   "cell_type": "code",
   "execution_count": 13,
   "id": "c1477efc",
   "metadata": {},
   "outputs": [
    {
     "ename": "NameError",
     "evalue": "name 'name' is not defined",
     "output_type": "error",
     "traceback": [
      "\u001b[1;31m---------------------------------------------------------------------------\u001b[0m",
      "\u001b[1;31mNameError\u001b[0m                                 Traceback (most recent call last)",
      "Cell \u001b[1;32mIn[13], line 1\u001b[0m\n\u001b[1;32m----> 1\u001b[0m \u001b[38;5;28mprint\u001b[39m(name)\n",
      "\u001b[1;31mNameError\u001b[0m: name 'name' is not defined"
     ]
    }
   ],
   "source": [
    "print(name)"
   ]
  },
  {
   "cell_type": "code",
   "execution_count": 14,
   "id": "edc2ea72",
   "metadata": {},
   "outputs": [
    {
     "name": "stdout",
     "output_type": "stream",
     "text": [
      "10\n"
     ]
    }
   ],
   "source": [
    "print(roll_no)"
   ]
  },
  {
   "cell_type": "markdown",
   "id": "8791c3f4",
   "metadata": {},
   "source": [
    "### random module"
   ]
  },
  {
   "cell_type": "code",
   "execution_count": 15,
   "id": "295e3e67",
   "metadata": {},
   "outputs": [],
   "source": [
    "import random"
   ]
  },
  {
   "cell_type": "code",
   "execution_count": 30,
   "id": "2c981bdf",
   "metadata": {},
   "outputs": [
    {
     "data": {
      "text/plain": [
       "0.9420913273097619"
      ]
     },
     "execution_count": 30,
     "metadata": {},
     "output_type": "execute_result"
    }
   ],
   "source": [
    "#random() ==> returns random number b/w 0- 1\n",
    "random.random()"
   ]
  },
  {
   "cell_type": "code",
   "execution_count": 45,
   "id": "97c04b08",
   "metadata": {},
   "outputs": [
    {
     "data": {
      "text/plain": [
       "6"
      ]
     },
     "execution_count": 45,
     "metadata": {},
     "output_type": "execute_result"
    }
   ],
   "source": [
    "random.randint(1,10)"
   ]
  },
  {
   "cell_type": "code",
   "execution_count": 61,
   "id": "040c05a7",
   "metadata": {},
   "outputs": [
    {
     "data": {
      "text/plain": [
       "7"
      ]
     },
     "execution_count": 61,
     "metadata": {},
     "output_type": "execute_result"
    }
   ],
   "source": [
    "random.randrange(1,10,2)"
   ]
  },
  {
   "cell_type": "code",
   "execution_count": 62,
   "id": "18d23c1e",
   "metadata": {},
   "outputs": [],
   "source": [
    "list1 = [12,4,52,4782,785,21,6,3]"
   ]
  },
  {
   "cell_type": "code",
   "execution_count": 80,
   "id": "6b4fc4ed",
   "metadata": {},
   "outputs": [
    {
     "data": {
      "text/plain": [
       "52"
      ]
     },
     "execution_count": 80,
     "metadata": {},
     "output_type": "execute_result"
    }
   ],
   "source": [
    "random.choice(list1)"
   ]
  },
  {
   "cell_type": "code",
   "execution_count": 81,
   "id": "f5e5c0ee",
   "metadata": {},
   "outputs": [],
   "source": [
    "random.shuffle(list1)"
   ]
  },
  {
   "cell_type": "code",
   "execution_count": 82,
   "id": "70af4eca",
   "metadata": {},
   "outputs": [
    {
     "data": {
      "text/plain": [
       "[21, 52, 3, 4782, 4, 6, 785, 12]"
      ]
     },
     "execution_count": 82,
     "metadata": {},
     "output_type": "execute_result"
    }
   ],
   "source": [
    "list1"
   ]
  },
  {
   "cell_type": "markdown",
   "id": "b257dc03",
   "metadata": {},
   "source": [
    "### pip usage"
   ]
  },
  {
   "cell_type": "code",
   "execution_count": 83,
   "id": "9e0124cf",
   "metadata": {},
   "outputs": [
    {
     "ename": "ModuleNotFoundError",
     "evalue": "No module named 'django'",
     "output_type": "error",
     "traceback": [
      "\u001b[1;31m---------------------------------------------------------------------------\u001b[0m",
      "\u001b[1;31mModuleNotFoundError\u001b[0m                       Traceback (most recent call last)",
      "Cell \u001b[1;32mIn[83], line 1\u001b[0m\n\u001b[1;32m----> 1\u001b[0m \u001b[38;5;28;01mimport\u001b[39;00m \u001b[38;5;21;01mdjango\u001b[39;00m\n",
      "\u001b[1;31mModuleNotFoundError\u001b[0m: No module named 'django'"
     ]
    }
   ],
   "source": [
    "import django"
   ]
  },
  {
   "cell_type": "code",
   "execution_count": 84,
   "id": "5d3f5352",
   "metadata": {
    "collapsed": true
   },
   "outputs": [
    {
     "name": "stdout",
     "output_type": "stream",
     "text": [
      "Collecting django\n",
      "  Obtaining dependency information for django from https://files.pythonhosted.org/packages/50/1b/7536019fd20654919dcd81b475fee1e54f21bd71b2b4e094b2ab075478b2/Django-5.0.2-py3-none-any.whl.metadata\n",
      "  Downloading Django-5.0.2-py3-none-any.whl.metadata (4.1 kB)\n",
      "Collecting asgiref<4,>=3.7.0 (from django)\n",
      "  Obtaining dependency information for asgiref<4,>=3.7.0 from https://files.pythonhosted.org/packages/9b/80/b9051a4a07ad231558fcd8ffc89232711b4e618c15cb7a392a17384bbeef/asgiref-3.7.2-py3-none-any.whl.metadata\n",
      "  Downloading asgiref-3.7.2-py3-none-any.whl.metadata (9.2 kB)\n",
      "Collecting sqlparse>=0.3.1 (from django)\n",
      "  Obtaining dependency information for sqlparse>=0.3.1 from https://files.pythonhosted.org/packages/98/5a/66d7c9305baa9f11857f247d4ba761402cea75db6058ff850ed7128957b7/sqlparse-0.4.4-py3-none-any.whl.metadata\n",
      "  Downloading sqlparse-0.4.4-py3-none-any.whl.metadata (4.0 kB)\n",
      "Requirement already satisfied: tzdata in c:\\anaconda\\lib\\site-packages (from django) (2023.3)\n",
      "Downloading Django-5.0.2-py3-none-any.whl (8.2 MB)\n",
      "   ---------------------------------------- 0.0/8.2 MB ? eta -:--:--\n",
      "   ---------------------------------------- 0.0/8.2 MB ? eta -:--:--\n",
      "   ---------------------------------------- 0.0/8.2 MB 435.7 kB/s eta 0:00:19\n",
      "   ---------------------------------------- 0.1/8.2 MB 544.7 kB/s eta 0:00:15\n",
      "    --------------------------------------- 0.1/8.2 MB 722.1 kB/s eta 0:00:12\n",
      "   - -------------------------------------- 0.2/8.2 MB 981.9 kB/s eta 0:00:09\n",
      "   - -------------------------------------- 0.3/8.2 MB 1.1 MB/s eta 0:00:08\n",
      "   -- ------------------------------------- 0.5/8.2 MB 1.5 MB/s eta 0:00:06\n",
      "   --- ------------------------------------ 0.8/8.2 MB 2.1 MB/s eta 0:00:04\n",
      "   ----- ---------------------------------- 1.0/8.2 MB 2.4 MB/s eta 0:00:03\n",
      "   ------- -------------------------------- 1.4/8.2 MB 3.0 MB/s eta 0:00:03\n",
      "   -------- ------------------------------- 1.7/8.2 MB 3.2 MB/s eta 0:00:03\n",
      "   --------- ------------------------------ 1.9/8.2 MB 3.3 MB/s eta 0:00:02\n",
      "   ---------- ----------------------------- 2.1/8.2 MB 3.4 MB/s eta 0:00:02\n",
      "   ----------- ---------------------------- 2.4/8.2 MB 3.6 MB/s eta 0:00:02\n",
      "   ------------ --------------------------- 2.6/8.2 MB 3.7 MB/s eta 0:00:02\n",
      "   -------------- ------------------------- 3.0/8.2 MB 3.9 MB/s eta 0:00:02\n",
      "   ---------------- ----------------------- 3.4/8.2 MB 4.1 MB/s eta 0:00:02\n",
      "   ------------------ --------------------- 3.8/8.2 MB 4.3 MB/s eta 0:00:02\n",
      "   ------------------- -------------------- 4.1/8.2 MB 4.3 MB/s eta 0:00:01\n",
      "   --------------------- ------------------ 4.3/8.2 MB 4.5 MB/s eta 0:00:01\n",
      "   ---------------------- ----------------- 4.6/8.2 MB 4.5 MB/s eta 0:00:01\n",
      "   ----------------------- ---------------- 4.8/8.2 MB 4.5 MB/s eta 0:00:01\n",
      "   ------------------------ --------------- 5.0/8.2 MB 4.6 MB/s eta 0:00:01\n",
      "   ------------------------ --------------- 5.0/8.2 MB 4.6 MB/s eta 0:00:01\n",
      "   ------------------------ --------------- 5.0/8.2 MB 4.6 MB/s eta 0:00:01\n",
      "   ------------------------ --------------- 5.0/8.2 MB 4.6 MB/s eta 0:00:01\n",
      "   ------------------------ --------------- 5.0/8.2 MB 4.0 MB/s eta 0:00:01\n",
      "   -------------------------- ------------- 5.4/8.2 MB 4.1 MB/s eta 0:00:01\n",
      "   --------------------------- ------------ 5.7/8.2 MB 4.1 MB/s eta 0:00:01\n",
      "   --------------------------- ------------ 5.7/8.2 MB 4.1 MB/s eta 0:00:01\n",
      "   ---------------------------- ----------- 5.8/8.2 MB 4.0 MB/s eta 0:00:01\n",
      "   ----------------------------- ---------- 6.1/8.2 MB 4.0 MB/s eta 0:00:01\n",
      "   ------------------------------ --------- 6.2/8.2 MB 4.0 MB/s eta 0:00:01\n",
      "   ------------------------------- -------- 6.5/8.2 MB 4.1 MB/s eta 0:00:01\n",
      "   --------------------------------- ------ 6.8/8.2 MB 4.1 MB/s eta 0:00:01\n",
      "   ---------------------------------- ----- 7.1/8.2 MB 4.2 MB/s eta 0:00:01\n",
      "   ----------------------------------- ---- 7.3/8.2 MB 4.2 MB/s eta 0:00:01\n",
      "   ------------------------------------- -- 7.6/8.2 MB 4.3 MB/s eta 0:00:01\n",
      "   -------------------------------------- - 7.9/8.2 MB 4.3 MB/s eta 0:00:01\n",
      "   ---------------------------------------  8.1/8.2 MB 4.4 MB/s eta 0:00:01\n",
      "   ---------------------------------------  8.2/8.2 MB 4.4 MB/s eta 0:00:01\n",
      "   ---------------------------------------  8.2/8.2 MB 4.4 MB/s eta 0:00:01\n",
      "   ---------------------------------------  8.2/8.2 MB 4.4 MB/s eta 0:00:01\n",
      "   ---------------------------------------  8.2/8.2 MB 4.4 MB/s eta 0:00:01\n",
      "   ---------------------------------------  8.2/8.2 MB 4.4 MB/s eta 0:00:01\n",
      "   ---------------------------------------  8.2/8.2 MB 4.4 MB/s eta 0:00:01\n",
      "   ---------------------------------------  8.2/8.2 MB 4.4 MB/s eta 0:00:01\n",
      "   ---------------------------------------  8.2/8.2 MB 4.4 MB/s eta 0:00:01\n",
      "   ---------------------------------------  8.2/8.2 MB 4.4 MB/s eta 0:00:01\n",
      "   ---------------------------------------  8.2/8.2 MB 4.4 MB/s eta 0:00:01\n",
      "   ---------------------------------------- 8.2/8.2 MB 3.5 MB/s eta 0:00:00\n",
      "Downloading asgiref-3.7.2-py3-none-any.whl (24 kB)\n",
      "Downloading sqlparse-0.4.4-py3-none-any.whl (41 kB)\n",
      "   ---------------------------------------- 0.0/41.2 kB ? eta -:--:--\n",
      "   ---------------------------------------  41.0/41.2 kB ? eta -:--:--\n",
      "   ---------------------------------------- 41.2/41.2 kB 499.1 kB/s eta 0:00:00\n",
      "Installing collected packages: sqlparse, asgiref, django\n",
      "Successfully installed asgiref-3.7.2 django-5.0.2 sqlparse-0.4.4\n"
     ]
    }
   ],
   "source": [
    "!pip install django"
   ]
  },
  {
   "cell_type": "code",
   "execution_count": 85,
   "id": "a3bd95c8",
   "metadata": {},
   "outputs": [],
   "source": [
    "import django"
   ]
  },
  {
   "cell_type": "markdown",
   "id": "70ba1573",
   "metadata": {},
   "source": [
    "### Exception handling"
   ]
  },
  {
   "cell_type": "markdown",
   "id": "cd37961c",
   "metadata": {},
   "source": [
    "#### compile-time error"
   ]
  },
  {
   "cell_type": "code",
   "execution_count": 86,
   "id": "c1ef4a12",
   "metadata": {},
   "outputs": [
    {
     "ename": "SyntaxError",
     "evalue": "unterminated string literal (detected at line 1) (1371898898.py, line 1)",
     "output_type": "error",
     "traceback": [
      "\u001b[1;36m  Cell \u001b[1;32mIn[86], line 1\u001b[1;36m\u001b[0m\n\u001b[1;33m    print(\"Hello)\u001b[0m\n\u001b[1;37m          ^\u001b[0m\n\u001b[1;31mSyntaxError\u001b[0m\u001b[1;31m:\u001b[0m unterminated string literal (detected at line 1)\n"
     ]
    }
   ],
   "source": [
    "print(\"Hello)"
   ]
  },
  {
   "cell_type": "code",
   "execution_count": 87,
   "id": "6c5c239c",
   "metadata": {},
   "outputs": [
    {
     "ename": "SyntaxError",
     "evalue": "incomplete input (1647630127.py, line 1)",
     "output_type": "error",
     "traceback": [
      "\u001b[1;36m  Cell \u001b[1;32mIn[87], line 1\u001b[1;36m\u001b[0m\n\u001b[1;33m    print(\"Hello\"\u001b[0m\n\u001b[1;37m                 ^\u001b[0m\n\u001b[1;31mSyntaxError\u001b[0m\u001b[1;31m:\u001b[0m incomplete input\n"
     ]
    }
   ],
   "source": [
    "print(\"Hello\""
   ]
  },
  {
   "cell_type": "markdown",
   "id": "0d29b208",
   "metadata": {},
   "source": [
    "#### Logical error"
   ]
  },
  {
   "cell_type": "code",
   "execution_count": 88,
   "id": "98c0afe0",
   "metadata": {},
   "outputs": [],
   "source": [
    "def add(x,y):\n",
    "    return x * y"
   ]
  },
  {
   "cell_type": "code",
   "execution_count": 89,
   "id": "98b196e9",
   "metadata": {},
   "outputs": [
    {
     "data": {
      "text/plain": [
       "200"
      ]
     },
     "execution_count": 89,
     "metadata": {},
     "output_type": "execute_result"
    }
   ],
   "source": [
    "add(10,20)"
   ]
  },
  {
   "cell_type": "markdown",
   "id": "743449f1",
   "metadata": {},
   "source": [
    "#### Run-time error"
   ]
  },
  {
   "cell_type": "code",
   "execution_count": 90,
   "id": "16f44251",
   "metadata": {},
   "outputs": [
    {
     "ename": "NameError",
     "evalue": "name 'abc' is not defined",
     "output_type": "error",
     "traceback": [
      "\u001b[1;31m---------------------------------------------------------------------------\u001b[0m",
      "\u001b[1;31mNameError\u001b[0m                                 Traceback (most recent call last)",
      "Cell \u001b[1;32mIn[90], line 1\u001b[0m\n\u001b[1;32m----> 1\u001b[0m \u001b[38;5;28mprint\u001b[39m(abc)\n",
      "\u001b[1;31mNameError\u001b[0m: name 'abc' is not defined"
     ]
    }
   ],
   "source": [
    "print(abc)"
   ]
  },
  {
   "cell_type": "code",
   "execution_count": 92,
   "id": "d1fd403c",
   "metadata": {},
   "outputs": [
    {
     "ename": "ZeroDivisionError",
     "evalue": "division by zero",
     "output_type": "error",
     "traceback": [
      "\u001b[1;31m---------------------------------------------------------------------------\u001b[0m",
      "\u001b[1;31mZeroDivisionError\u001b[0m                         Traceback (most recent call last)",
      "Cell \u001b[1;32mIn[92], line 3\u001b[0m\n\u001b[0;32m      1\u001b[0m x  \u001b[38;5;241m=\u001b[39m \u001b[38;5;241m10\u001b[39m\n\u001b[0;32m      2\u001b[0m y \u001b[38;5;241m=\u001b[39m \u001b[38;5;241m0\u001b[39m\n\u001b[1;32m----> 3\u001b[0m \u001b[38;5;28mprint\u001b[39m(x \u001b[38;5;241m/\u001b[39m y)\n",
      "\u001b[1;31mZeroDivisionError\u001b[0m: division by zero"
     ]
    }
   ],
   "source": [
    "x  = 10\n",
    "y = 0\n",
    "print(x / y)"
   ]
  },
  {
   "cell_type": "code",
   "execution_count": 93,
   "id": "b36bdd0b",
   "metadata": {},
   "outputs": [
    {
     "ename": "IndexError",
     "evalue": "list index out of range",
     "output_type": "error",
     "traceback": [
      "\u001b[1;31m---------------------------------------------------------------------------\u001b[0m",
      "\u001b[1;31mIndexError\u001b[0m                                Traceback (most recent call last)",
      "Cell \u001b[1;32mIn[93], line 2\u001b[0m\n\u001b[0;32m      1\u001b[0m list1  \u001b[38;5;241m=\u001b[39m [\u001b[38;5;241m1\u001b[39m,\u001b[38;5;241m2\u001b[39m,\u001b[38;5;241m3\u001b[39m,\u001b[38;5;241m4\u001b[39m,\u001b[38;5;241m5\u001b[39m,\u001b[38;5;241m6\u001b[39m] \n\u001b[1;32m----> 2\u001b[0m list1[\u001b[38;5;241m10\u001b[39m]\n",
      "\u001b[1;31mIndexError\u001b[0m: list index out of range"
     ]
    }
   ],
   "source": [
    "list1  = [1,2,3,4,5,6] \n",
    "list1[10]"
   ]
  },
  {
   "cell_type": "code",
   "execution_count": 94,
   "id": "efba23dc",
   "metadata": {},
   "outputs": [],
   "source": [
    "dict1 = {'name':'abc'}"
   ]
  },
  {
   "cell_type": "code",
   "execution_count": 95,
   "id": "279f6b83",
   "metadata": {},
   "outputs": [
    {
     "ename": "KeyError",
     "evalue": "'loc'",
     "output_type": "error",
     "traceback": [
      "\u001b[1;31m---------------------------------------------------------------------------\u001b[0m",
      "\u001b[1;31mKeyError\u001b[0m                                  Traceback (most recent call last)",
      "Cell \u001b[1;32mIn[95], line 1\u001b[0m\n\u001b[1;32m----> 1\u001b[0m dict1[\u001b[38;5;124m'\u001b[39m\u001b[38;5;124mloc\u001b[39m\u001b[38;5;124m'\u001b[39m]\n",
      "\u001b[1;31mKeyError\u001b[0m: 'loc'"
     ]
    }
   ],
   "source": [
    "dict1['loc']"
   ]
  },
  {
   "cell_type": "code",
   "execution_count": 96,
   "id": "fca12fb0",
   "metadata": {},
   "outputs": [
    {
     "ename": "ModuleNotFoundError",
     "evalue": "No module named 'statistic'",
     "output_type": "error",
     "traceback": [
      "\u001b[1;31m---------------------------------------------------------------------------\u001b[0m",
      "\u001b[1;31mModuleNotFoundError\u001b[0m                       Traceback (most recent call last)",
      "Cell \u001b[1;32mIn[96], line 1\u001b[0m\n\u001b[1;32m----> 1\u001b[0m \u001b[38;5;28;01mimport\u001b[39;00m \u001b[38;5;21;01mstatistic\u001b[39;00m\n",
      "\u001b[1;31mModuleNotFoundError\u001b[0m: No module named 'statistic'"
     ]
    }
   ],
   "source": [
    "import statistic"
   ]
  },
  {
   "cell_type": "markdown",
   "id": "f0c006ee",
   "metadata": {},
   "source": [
    "### Exception handling"
   ]
  },
  {
   "cell_type": "code",
   "execution_count": 102,
   "id": "c29167c6",
   "metadata": {},
   "outputs": [
    {
     "name": "stdout",
     "output_type": "stream",
     "text": [
      "Enter x value:10\n",
      "Enter y value:5\n",
      "2.0\n",
      "This is try block\n"
     ]
    }
   ],
   "source": [
    "x = int(input(\"Enter x value:\"))\n",
    "y = int(input(\"Enter y value:\"))\n",
    "try:\n",
    "    print(x / y)\n",
    "    print(\"This is try block\")\n",
    "except:\n",
    "    print(\"This is except block\")"
   ]
  },
  {
   "cell_type": "code",
   "execution_count": 103,
   "id": "5f2ba70b",
   "metadata": {},
   "outputs": [
    {
     "name": "stdout",
     "output_type": "stream",
     "text": [
      "Enter x value:10\n",
      "Enter y value:0\n",
      "This is except block\n"
     ]
    }
   ],
   "source": [
    "x = int(input(\"Enter x value:\"))\n",
    "y = int(input(\"Enter y value:\"))\n",
    "try:\n",
    "    print(x / y)\n",
    "    print(\"This is try block\")\n",
    "except:\n",
    "    print(\"This is except block\")"
   ]
  },
  {
   "cell_type": "code",
   "execution_count": 105,
   "id": "dc3e70ce",
   "metadata": {},
   "outputs": [
    {
     "name": "stdout",
     "output_type": "stream",
     "text": [
      "Enter x value:10\n",
      "Enter y value:20\n",
      "0.5\n"
     ]
    },
    {
     "ename": "NameError",
     "evalue": "name 'abc' is not defined",
     "output_type": "error",
     "traceback": [
      "\u001b[1;31m---------------------------------------------------------------------------\u001b[0m",
      "\u001b[1;31mNameError\u001b[0m                                 Traceback (most recent call last)",
      "Cell \u001b[1;32mIn[105], line 5\u001b[0m\n\u001b[0;32m      3\u001b[0m \u001b[38;5;28;01mtry\u001b[39;00m:\n\u001b[0;32m      4\u001b[0m     \u001b[38;5;28mprint\u001b[39m(x \u001b[38;5;241m/\u001b[39m y)\n\u001b[1;32m----> 5\u001b[0m     \u001b[38;5;28mprint\u001b[39m(abc)\n\u001b[0;32m      6\u001b[0m     \u001b[38;5;28mprint\u001b[39m(\u001b[38;5;124m\"\u001b[39m\u001b[38;5;124mThis is try block\u001b[39m\u001b[38;5;124m\"\u001b[39m)\n\u001b[0;32m      7\u001b[0m \u001b[38;5;28;01mexcept\u001b[39;00m \u001b[38;5;167;01mZeroDivisionError\u001b[39;00m:\n",
      "\u001b[1;31mNameError\u001b[0m: name 'abc' is not defined"
     ]
    }
   ],
   "source": [
    "x = int(input(\"Enter x value:\"))\n",
    "y = int(input(\"Enter y value:\"))\n",
    "try:\n",
    "    print(x / y)\n",
    "    print(abc)\n",
    "    print(\"This is try block\")\n",
    "except ZeroDivisionError:\n",
    "    print(\"This is except block\")"
   ]
  },
  {
   "cell_type": "code",
   "execution_count": 107,
   "id": "c4f14641",
   "metadata": {},
   "outputs": [
    {
     "name": "stdout",
     "output_type": "stream",
     "text": [
      "Enter x value:10\n",
      "Enter y value:5\n",
      "2.0\n",
      "This is Name error: name 'abc' is not defined\n"
     ]
    }
   ],
   "source": [
    "x = int(input(\"Enter x value:\"))\n",
    "y = int(input(\"Enter y value:\"))\n",
    "try:\n",
    "    print(x / y)\n",
    "    print(abc)\n",
    "    print(\"This is try block\")\n",
    "except ZeroDivisionError:\n",
    "    print(\"This is Zero dicision error block\")\n",
    "except NameError as a:\n",
    "    print(\"This is Name error:\",a)"
   ]
  },
  {
   "cell_type": "code",
   "execution_count": 5,
   "id": "10518f22",
   "metadata": {},
   "outputs": [
    {
     "name": "stdout",
     "output_type": "stream",
     "text": [
      "Enter x value:10\n",
      "Enter y value:2\n",
      "5.0\n",
      "This is try block\n",
      "This is else block\n",
      "This is finally block\n"
     ]
    }
   ],
   "source": [
    "x = int(input(\"Enter x value:\"))\n",
    "y = int(input(\"Enter y value:\"))\n",
    "try:\n",
    "    print(x / y)\n",
    "    #print(abc)\n",
    "    print(\"This is try block\")\n",
    "except (ZeroDivisionError,NameError):\n",
    "    print(\"This is except block\")\n",
    "else:\n",
    "    print(\"This is else block\")\n",
    "finally:\n",
    "    print(\"This is finally block\")"
   ]
  },
  {
   "cell_type": "markdown",
   "id": "c183ccd7",
   "metadata": {},
   "source": [
    "### Raising an exception"
   ]
  },
  {
   "cell_type": "code",
   "execution_count": 7,
   "id": "e975d27e",
   "metadata": {},
   "outputs": [
    {
     "ename": "NameError",
     "evalue": "description",
     "output_type": "error",
     "traceback": [
      "\u001b[1;31m---------------------------------------------------------------------------\u001b[0m",
      "\u001b[1;31mNameError\u001b[0m                                 Traceback (most recent call last)",
      "Cell \u001b[1;32mIn[7], line 1\u001b[0m\n\u001b[1;32m----> 1\u001b[0m \u001b[38;5;28;01mraise\u001b[39;00m \u001b[38;5;167;01mNameError\u001b[39;00m(\u001b[38;5;124m\"\u001b[39m\u001b[38;5;124mdescription\u001b[39m\u001b[38;5;124m\"\u001b[39m)\n",
      "\u001b[1;31mNameError\u001b[0m: description"
     ]
    }
   ],
   "source": [
    "raise NameError(\"description\")"
   ]
  },
  {
   "cell_type": "markdown",
   "id": "93135f5b",
   "metadata": {},
   "source": [
    "### OOP's concepts:"
   ]
  },
  {
   "cell_type": "code",
   "execution_count": 8,
   "id": "69723e7e",
   "metadata": {},
   "outputs": [],
   "source": [
    "class A:\n",
    "    pass"
   ]
  },
  {
   "cell_type": "code",
   "execution_count": 9,
   "id": "ba3a7cff",
   "metadata": {},
   "outputs": [],
   "source": [
    "#object creation\n",
    "a = A()"
   ]
  },
  {
   "cell_type": "code",
   "execution_count": 16,
   "id": "48979e3c",
   "metadata": {},
   "outputs": [],
   "source": [
    "class A:\n",
    "    def display(self,a,b):\n",
    "        \n",
    "        print(\"This is display method\",a+b)\n",
    "        "
   ]
  },
  {
   "cell_type": "code",
   "execution_count": 17,
   "id": "703388cc",
   "metadata": {},
   "outputs": [],
   "source": [
    "a = A()"
   ]
  },
  {
   "cell_type": "code",
   "execution_count": 18,
   "id": "8dd9720c",
   "metadata": {},
   "outputs": [
    {
     "name": "stdout",
     "output_type": "stream",
     "text": [
      "This is display method 30\n"
     ]
    }
   ],
   "source": [
    "a.display(10,20)"
   ]
  },
  {
   "cell_type": "markdown",
   "id": "9c13dddf",
   "metadata": {},
   "source": [
    "### parameterized constructor creation"
   ]
  },
  {
   "cell_type": "code",
   "execution_count": 19,
   "id": "00bcd9fb",
   "metadata": {},
   "outputs": [],
   "source": [
    "#default constructor\n",
    "class A:\n",
    "    def __init__(self):\n",
    "        pass\n",
    "    def display(self,a,b):\n",
    "        print(\"This is display method\",a+b) "
   ]
  },
  {
   "cell_type": "code",
   "execution_count": 23,
   "id": "f7dd5450",
   "metadata": {},
   "outputs": [],
   "source": [
    "#parameterized constructor\n",
    "class A:\n",
    "    def __init__(self,a,b):\n",
    "        self.a = a\n",
    "        self.b = b\n",
    "    def addition(self):\n",
    "        return self.a + self.b\n",
    "    def display(self,a,b):\n",
    "        print(\"This is display method\",a+b) "
   ]
  },
  {
   "cell_type": "code",
   "execution_count": 24,
   "id": "f61e60be",
   "metadata": {},
   "outputs": [],
   "source": [
    "a = A(10,20)"
   ]
  },
  {
   "cell_type": "code",
   "execution_count": 25,
   "id": "bacd9ea4",
   "metadata": {},
   "outputs": [
    {
     "name": "stdout",
     "output_type": "stream",
     "text": [
      "This is display method 300\n"
     ]
    }
   ],
   "source": [
    "a.display(100,200)"
   ]
  },
  {
   "cell_type": "code",
   "execution_count": 26,
   "id": "d97ca14e",
   "metadata": {},
   "outputs": [
    {
     "data": {
      "text/plain": [
       "30"
      ]
     },
     "execution_count": 26,
     "metadata": {},
     "output_type": "execute_result"
    }
   ],
   "source": [
    "a.addition()"
   ]
  },
  {
   "cell_type": "code",
   "execution_count": 27,
   "id": "77614fee",
   "metadata": {},
   "outputs": [],
   "source": [
    "b = A(50,60)"
   ]
  },
  {
   "cell_type": "code",
   "execution_count": 28,
   "id": "2d932146",
   "metadata": {},
   "outputs": [
    {
     "data": {
      "text/plain": [
       "110"
      ]
     },
     "execution_count": 28,
     "metadata": {},
     "output_type": "execute_result"
    }
   ],
   "source": [
    "b.addition()"
   ]
  },
  {
   "cell_type": "markdown",
   "id": "7af5f01f",
   "metadata": {},
   "source": [
    "### Inheritance"
   ]
  },
  {
   "cell_type": "code",
   "execution_count": 29,
   "id": "8ee60f7f",
   "metadata": {},
   "outputs": [],
   "source": [
    "class A:\n",
    "    def display(self):\n",
    "        print(\"Class A display method\")"
   ]
  },
  {
   "cell_type": "code",
   "execution_count": 32,
   "id": "ba9e4a77",
   "metadata": {},
   "outputs": [],
   "source": [
    "class B(A):\n",
    "    def display1(self):\n",
    "        print(\"class B display method\")"
   ]
  },
  {
   "cell_type": "code",
   "execution_count": 33,
   "id": "f6f0e202",
   "metadata": {},
   "outputs": [],
   "source": [
    "a = A()\n",
    "b = B()"
   ]
  },
  {
   "cell_type": "code",
   "execution_count": 34,
   "id": "42d5142c",
   "metadata": {},
   "outputs": [
    {
     "name": "stdout",
     "output_type": "stream",
     "text": [
      "Class A display method\n",
      "class B display method\n"
     ]
    }
   ],
   "source": [
    "b.display()\n",
    "b.display1()"
   ]
  },
  {
   "cell_type": "markdown",
   "id": "2f5d649a",
   "metadata": {},
   "source": [
    "### Multi-level inheritance"
   ]
  },
  {
   "cell_type": "code",
   "execution_count": 35,
   "id": "2443a9f9",
   "metadata": {},
   "outputs": [],
   "source": [
    "class A:\n",
    "    def display(self):\n",
    "        print(\"Class A display method\")\n",
    "        \n",
    "class B(A):\n",
    "    def display1(self):\n",
    "        print(\"Class B display method\")\n",
    "class C(B):\n",
    "    def display2(self):\n",
    "        print(\"Class C display method\")"
   ]
  },
  {
   "cell_type": "code",
   "execution_count": 36,
   "id": "2f3935b7",
   "metadata": {},
   "outputs": [],
   "source": [
    "c = C()"
   ]
  },
  {
   "cell_type": "code",
   "execution_count": 37,
   "id": "eb4e753d",
   "metadata": {},
   "outputs": [
    {
     "data": {
      "text/plain": [
       "['__class__',\n",
       " '__delattr__',\n",
       " '__dict__',\n",
       " '__dir__',\n",
       " '__doc__',\n",
       " '__eq__',\n",
       " '__format__',\n",
       " '__ge__',\n",
       " '__getattribute__',\n",
       " '__getstate__',\n",
       " '__gt__',\n",
       " '__hash__',\n",
       " '__init__',\n",
       " '__init_subclass__',\n",
       " '__le__',\n",
       " '__lt__',\n",
       " '__module__',\n",
       " '__ne__',\n",
       " '__new__',\n",
       " '__reduce__',\n",
       " '__reduce_ex__',\n",
       " '__repr__',\n",
       " '__setattr__',\n",
       " '__sizeof__',\n",
       " '__str__',\n",
       " '__subclasshook__',\n",
       " '__weakref__',\n",
       " 'display',\n",
       " 'display1',\n",
       " 'display2']"
      ]
     },
     "execution_count": 37,
     "metadata": {},
     "output_type": "execute_result"
    }
   ],
   "source": [
    "dir(c)"
   ]
  },
  {
   "cell_type": "markdown",
   "id": "ec75243c",
   "metadata": {},
   "source": [
    "### Multiple Inheritance"
   ]
  },
  {
   "cell_type": "code",
   "execution_count": 39,
   "id": "987cd86c",
   "metadata": {},
   "outputs": [],
   "source": [
    "class A:\n",
    "    def display(self):\n",
    "        print(\"Class A display method\")\n",
    "        \n",
    "class B:\n",
    "    def display(self):\n",
    "        print(\"Class B display method\")\n",
    "        \n",
    "class C(A,B):\n",
    "    def display2(self):\n",
    "        print(\"Class C display method\")"
   ]
  },
  {
   "cell_type": "code",
   "execution_count": 40,
   "id": "17ae4898",
   "metadata": {},
   "outputs": [],
   "source": [
    "c = C()"
   ]
  },
  {
   "cell_type": "code",
   "execution_count": 41,
   "id": "6afa16e7",
   "metadata": {},
   "outputs": [
    {
     "name": "stdout",
     "output_type": "stream",
     "text": [
      "Class A display method\n"
     ]
    }
   ],
   "source": [
    "c.display()"
   ]
  },
  {
   "cell_type": "code",
   "execution_count": 44,
   "id": "7a0b3ab3",
   "metadata": {},
   "outputs": [],
   "source": [
    "class A:\n",
    "    def display(self):\n",
    "        print(\"Class A display method\")\n",
    "        \n",
    "class B:\n",
    "    def display(self):\n",
    "        print(\"Class B display method\")\n",
    "        \n",
    "class C(A,B):\n",
    "    def display(self):\n",
    "        print(\"Class C display method\")"
   ]
  },
  {
   "cell_type": "code",
   "execution_count": 45,
   "id": "7e58774a",
   "metadata": {},
   "outputs": [],
   "source": [
    "c = C()"
   ]
  },
  {
   "cell_type": "code",
   "execution_count": 46,
   "id": "fe04008f",
   "metadata": {},
   "outputs": [
    {
     "name": "stdout",
     "output_type": "stream",
     "text": [
      "Class C display method\n"
     ]
    }
   ],
   "source": [
    "c.display()"
   ]
  },
  {
   "cell_type": "markdown",
   "id": "e0f5d7b1",
   "metadata": {},
   "source": [
    "### Hierarchical inheritance"
   ]
  },
  {
   "cell_type": "code",
   "execution_count": 47,
   "id": "b046f79a",
   "metadata": {},
   "outputs": [],
   "source": [
    "class A:\n",
    "    def display(self):\n",
    "        print(\"Class A display method\")\n",
    "        \n",
    "class B(A):\n",
    "    def display(self):\n",
    "        print(\"Class B display method\")\n",
    "        \n",
    "class C(A):\n",
    "    def display(self):\n",
    "        print(\"Class C display method\")"
   ]
  },
  {
   "cell_type": "code",
   "execution_count": null,
   "id": "4d0f02c8",
   "metadata": {},
   "outputs": [],
   "source": []
  }
 ],
 "metadata": {
  "kernelspec": {
   "display_name": "Python 3 (ipykernel)",
   "language": "python",
   "name": "python3"
  },
  "language_info": {
   "codemirror_mode": {
    "name": "ipython",
    "version": 3
   },
   "file_extension": ".py",
   "mimetype": "text/x-python",
   "name": "python",
   "nbconvert_exporter": "python",
   "pygments_lexer": "ipython3",
   "version": "3.11.5"
  }
 },
 "nbformat": 4,
 "nbformat_minor": 5
}
