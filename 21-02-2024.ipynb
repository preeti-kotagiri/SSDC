{
 "cells": [
  {
   "cell_type": "markdown",
   "id": "09afe85d",
   "metadata": {},
   "source": [
    "1. [Task form link](https://forms.gle/vrbg3qrD7mw5XKhQ9)\n",
    "2. [click here for Notes](https://docs.google.com/document/d/1Uon98S3LlW8DCRPYxXftSbk0eyF3uLkwhGQRDxpI8MU/edit?usp=sharing)"
   ]
  },
  {
   "cell_type": "code",
   "execution_count": 1,
   "id": "649ccb16",
   "metadata": {},
   "outputs": [],
   "source": [
    "def fun1():\n",
    "    print(\"Hello\")\n",
    "def fun1(name):\n",
    "    print(\"Hai\",name)"
   ]
  },
  {
   "cell_type": "code",
   "execution_count": 2,
   "id": "defafbcc",
   "metadata": {},
   "outputs": [
    {
     "ename": "TypeError",
     "evalue": "fun1() missing 1 required positional argument: 'name'",
     "output_type": "error",
     "traceback": [
      "\u001b[1;31m---------------------------------------------------------------------------\u001b[0m",
      "\u001b[1;31mTypeError\u001b[0m                                 Traceback (most recent call last)",
      "Cell \u001b[1;32mIn[2], line 1\u001b[0m\n\u001b[1;32m----> 1\u001b[0m fun1()\n\u001b[0;32m      2\u001b[0m fun1(\u001b[38;5;124m'\u001b[39m\u001b[38;5;124mabc\u001b[39m\u001b[38;5;124m'\u001b[39m)\n",
      "\u001b[1;31mTypeError\u001b[0m: fun1() missing 1 required positional argument: 'name'"
     ]
    }
   ],
   "source": [
    "fun1()\n",
    "fun1('abc')"
   ]
  },
  {
   "cell_type": "code",
   "execution_count": 3,
   "id": "7995237d",
   "metadata": {},
   "outputs": [],
   "source": [
    "import tkinter"
   ]
  },
  {
   "cell_type": "code",
   "execution_count": 22,
   "id": "4867ac5b",
   "metadata": {},
   "outputs": [],
   "source": [
    "window = tkinter.Tk(className=\"sample\")\n",
    "window.geometry(\"300x400\")\n",
    "\n",
    "name_label = tkinter.Label(window,text = \"user name\")\n",
    "name_label.grid(row=0,column=0)\n",
    "\n",
    "name_entry = tkinter.Entry(window,show=\"*\")\n",
    "name_entry.grid(row=0,column=1)\n",
    "\n",
    "def display():\n",
    "    print(\"hai\",name_entry.get())\n",
    "    print(\"This is Button corresponding dislay function\")\n",
    "\n",
    "login_button = tkinter.Button(window,text=\"Login\",bg='#0000FF',fg='#FFFFFF',command=display)\n",
    "login_button.grid(row =1,column=1)\n",
    "\n",
    "window.mainloop()\n"
   ]
  },
  {
   "cell_type": "code",
   "execution_count": null,
   "id": "eeff7258",
   "metadata": {},
   "outputs": [],
   "source": []
  },
  {
   "cell_type": "code",
   "execution_count": null,
   "id": "4c112527",
   "metadata": {},
   "outputs": [],
   "source": []
  }
 ],
 "metadata": {
  "kernelspec": {
   "display_name": "Python 3 (ipykernel)",
   "language": "python",
   "name": "python3"
  },
  "language_info": {
   "codemirror_mode": {
    "name": "ipython",
    "version": 3
   },
   "file_extension": ".py",
   "mimetype": "text/x-python",
   "name": "python",
   "nbconvert_exporter": "python",
   "pygments_lexer": "ipython3",
   "version": "3.11.5"
  }
 },
 "nbformat": 4,
 "nbformat_minor": 5
}
