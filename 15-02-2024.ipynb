{
 "cells": [
  {
   "cell_type": "code",
   "execution_count": 1,
   "id": "0a00b3b7",
   "metadata": {},
   "outputs": [
    {
     "name": "stdout",
     "output_type": "stream",
     "text": [
      "Hello world!!\n"
     ]
    }
   ],
   "source": [
    "print(\"Hello world!!\")"
   ]
  },
  {
   "cell_type": "code",
   "execution_count": 6,
   "id": "c624c166",
   "metadata": {},
   "outputs": [
    {
     "ename": "SyntaxError",
     "evalue": "invalid syntax (1441982122.py, line 5)",
     "output_type": "error",
     "traceback": [
      "\u001b[1;36m  Cell \u001b[1;32mIn[6], line 5\u001b[1;36m\u001b[0m\n\u001b[1;33m    print(x * )\u001b[0m\n\u001b[1;37m              ^\u001b[0m\n\u001b[1;31mSyntaxError\u001b[0m\u001b[1;31m:\u001b[0m invalid syntax\n"
     ]
    }
   ],
   "source": [
    "x = 10\n",
    "y = 20\n",
    "print(x + y)\n",
    "print(x - y)\n",
    "print(x * )\n",
    "print(x / y)"
   ]
  },
  {
   "cell_type": "code",
   "execution_count": 3,
   "id": "be3a2312",
   "metadata": {},
   "outputs": [
    {
     "name": "stdout",
     "output_type": "stream",
     "text": [
      "-10\n"
     ]
    }
   ],
   "source": [
    "print(x - y)"
   ]
  },
  {
   "cell_type": "code",
   "execution_count": 4,
   "id": "9b213b0b",
   "metadata": {},
   "outputs": [
    {
     "ename": "SyntaxError",
     "evalue": "unterminated string literal (detected at line 1) (3474576738.py, line 1)",
     "output_type": "error",
     "traceback": [
      "\u001b[1;36m  Cell \u001b[1;32mIn[4], line 1\u001b[1;36m\u001b[0m\n\u001b[1;33m    print(\"Hello world)\u001b[0m\n\u001b[1;37m          ^\u001b[0m\n\u001b[1;31mSyntaxError\u001b[0m\u001b[1;31m:\u001b[0m unterminated string literal (detected at line 1)\n"
     ]
    }
   ],
   "source": [
    "print(\"Hello world)"
   ]
  },
  {
   "cell_type": "code",
   "execution_count": 5,
   "id": "8421c884",
   "metadata": {},
   "outputs": [
    {
     "name": "stdout",
     "output_type": "stream",
     "text": [
      "200\n"
     ]
    }
   ],
   "source": [
    "print(x * y)"
   ]
  },
  {
   "cell_type": "markdown",
   "id": "2769dfae",
   "metadata": {},
   "source": [
    "We have done basic math operations on integer variables x and y"
   ]
  },
  {
   "cell_type": "code",
   "execution_count": 7,
   "id": "5ffcaa88",
   "metadata": {},
   "outputs": [
    {
     "name": "stdout",
     "output_type": "stream",
     "text": [
      "30\n",
      "-10\n"
     ]
    }
   ],
   "source": [
    "x = 10\n",
    "y = 20\n",
    "print(x + y)\n",
    "print(x - y)"
   ]
  },
  {
   "cell_type": "markdown",
   "id": "d13a94ed",
   "metadata": {},
   "source": [
    "### Understanding Basics of Python\n",
    "1. Identifiers\n",
    "2. Keywords\n",
    "3. Comments\n",
    "4. Indentations\n",
    "\n",
    "### Variable creation\n",
    "\n",
    "### Input and Output functions\n",
    "1. print()\n",
    "2. input()\n"
   ]
  },
  {
   "cell_type": "markdown",
   "id": "84d41215",
   "metadata": {},
   "source": [
    "### Identifiers:\n",
    "These are used to identify any object which is created.\n",
    "\n",
    "### Rules for creating identifiers\n",
    "1. Always begin with alphabets or underscore(_)\n",
    "2. use digits any where but not in the begining\n",
    "3. special characters are not allowed including space\n",
    "4. keywords are not used as identifiers\n",
    "5. python is case sensitive"
   ]
  },
  {
   "cell_type": "code",
   "execution_count": 8,
   "id": "2a434d30",
   "metadata": {},
   "outputs": [],
   "source": [
    "rollno = 123"
   ]
  },
  {
   "cell_type": "code",
   "execution_count": 9,
   "id": "c91c3d5c",
   "metadata": {},
   "outputs": [
    {
     "ename": "SyntaxError",
     "evalue": "invalid decimal literal (1237639207.py, line 1)",
     "output_type": "error",
     "traceback": [
      "\u001b[1;36m  Cell \u001b[1;32mIn[9], line 1\u001b[1;36m\u001b[0m\n\u001b[1;33m    1rollno = 123\u001b[0m\n\u001b[1;37m    ^\u001b[0m\n\u001b[1;31mSyntaxError\u001b[0m\u001b[1;31m:\u001b[0m invalid decimal literal\n"
     ]
    }
   ],
   "source": [
    "1rollno = 123"
   ]
  },
  {
   "cell_type": "code",
   "execution_count": 10,
   "id": "2ff9d573",
   "metadata": {},
   "outputs": [],
   "source": [
    "rool1no = 123 "
   ]
  },
  {
   "cell_type": "code",
   "execution_count": 11,
   "id": "d804d945",
   "metadata": {},
   "outputs": [
    {
     "ename": "SyntaxError",
     "evalue": "invalid syntax (458051787.py, line 1)",
     "output_type": "error",
     "traceback": [
      "\u001b[1;36m  Cell \u001b[1;32mIn[11], line 1\u001b[1;36m\u001b[0m\n\u001b[1;33m    roll no = 123\u001b[0m\n\u001b[1;37m         ^\u001b[0m\n\u001b[1;31mSyntaxError\u001b[0m\u001b[1;31m:\u001b[0m invalid syntax\n"
     ]
    }
   ],
   "source": [
    "roll no = 123"
   ]
  },
  {
   "cell_type": "code",
   "execution_count": 12,
   "id": "355d8449",
   "metadata": {},
   "outputs": [
    {
     "ename": "SyntaxError",
     "evalue": "invalid syntax (3751711400.py, line 1)",
     "output_type": "error",
     "traceback": [
      "\u001b[1;36m  Cell \u001b[1;32mIn[12], line 1\u001b[1;36m\u001b[0m\n\u001b[1;33m    roll$no = 123\u001b[0m\n\u001b[1;37m        ^\u001b[0m\n\u001b[1;31mSyntaxError\u001b[0m\u001b[1;31m:\u001b[0m invalid syntax\n"
     ]
    }
   ],
   "source": [
    "roll$no = 123"
   ]
  },
  {
   "cell_type": "code",
   "execution_count": 13,
   "id": "9ffef17c",
   "metadata": {},
   "outputs": [],
   "source": [
    "_rollno = 123"
   ]
  },
  {
   "cell_type": "code",
   "execution_count": 14,
   "id": "5dfac9f3",
   "metadata": {},
   "outputs": [],
   "source": [
    "roll_no = 123"
   ]
  },
  {
   "cell_type": "code",
   "execution_count": 15,
   "id": "94aacead",
   "metadata": {},
   "outputs": [
    {
     "ename": "SyntaxError",
     "evalue": "cannot assign to expression here. Maybe you meant '==' instead of '='? (2168585921.py, line 1)",
     "output_type": "error",
     "traceback": [
      "\u001b[1;36m  Cell \u001b[1;32mIn[15], line 1\u001b[1;36m\u001b[0m\n\u001b[1;33m    roll@no = 123\u001b[0m\n\u001b[1;37m    ^\u001b[0m\n\u001b[1;31mSyntaxError\u001b[0m\u001b[1;31m:\u001b[0m cannot assign to expression here. Maybe you meant '==' instead of '='?\n"
     ]
    }
   ],
   "source": [
    "roll@no = 123"
   ]
  },
  {
   "cell_type": "code",
   "execution_count": 16,
   "id": "8a8d398b",
   "metadata": {},
   "outputs": [
    {
     "name": "stdout",
     "output_type": "stream",
     "text": [
      "\n",
      "Here is a list of the Python keywords.  Enter any keyword to get more help.\n",
      "\n",
      "False               class               from                or\n",
      "None                continue            global              pass\n",
      "True                def                 if                  raise\n",
      "and                 del                 import              return\n",
      "as                  elif                in                  try\n",
      "assert              else                is                  while\n",
      "async               except              lambda              with\n",
      "await               finally             nonlocal            yield\n",
      "break               for                 not                 \n",
      "\n"
     ]
    }
   ],
   "source": [
    "help('keywords')"
   ]
  },
  {
   "cell_type": "code",
   "execution_count": 17,
   "id": "c5980aaa",
   "metadata": {},
   "outputs": [
    {
     "ename": "SyntaxError",
     "evalue": "invalid syntax (2893129215.py, line 1)",
     "output_type": "error",
     "traceback": [
      "\u001b[1;36m  Cell \u001b[1;32mIn[17], line 1\u001b[1;36m\u001b[0m\n\u001b[1;33m    while = 123\u001b[0m\n\u001b[1;37m          ^\u001b[0m\n\u001b[1;31mSyntaxError\u001b[0m\u001b[1;31m:\u001b[0m invalid syntax\n"
     ]
    }
   ],
   "source": [
    "while = 123"
   ]
  },
  {
   "cell_type": "code",
   "execution_count": 18,
   "id": "58909490",
   "metadata": {},
   "outputs": [],
   "source": [
    "rollno = 123\n",
    "ROLLNo = 121\n",
    "RollNo = 122"
   ]
  },
  {
   "cell_type": "markdown",
   "id": "7a616e55",
   "metadata": {},
   "source": [
    "### comments:\n",
    "1. single line comments ==> use #\n",
    "2. multiple line comments ==> use '''  '''  or \"\"\"   \"\"\""
   ]
  },
  {
   "cell_type": "code",
   "execution_count": 20,
   "id": "b067bab8",
   "metadata": {},
   "outputs": [
    {
     "name": "stdout",
     "output_type": "stream",
     "text": [
      "30\n"
     ]
    }
   ],
   "source": [
    "#This is a variable x\n",
    "#we are performing arithmetic operations\n",
    "x = 10\n",
    "y = 20 #This is a varibale y\n",
    "print(x + y)#This is addition of x and y"
   ]
  },
  {
   "cell_type": "code",
   "execution_count": 21,
   "id": "64db0cd1",
   "metadata": {},
   "outputs": [
    {
     "name": "stdout",
     "output_type": "stream",
     "text": [
      "30\n"
     ]
    }
   ],
   "source": [
    "'''This is a variable x\n",
    "we are performing arithmetic operations'''\n",
    "x = 10\n",
    "y = 20 #This is a varibale y\n",
    "print(x + y)#This is addition of x and y"
   ]
  },
  {
   "cell_type": "markdown",
   "id": "83dc7494",
   "metadata": {},
   "source": [
    "### Indentations:"
   ]
  },
  {
   "cell_type": "code",
   "execution_count": 22,
   "id": "bc2305ef",
   "metadata": {},
   "outputs": [
    {
     "name": "stdout",
     "output_type": "stream",
     "text": [
      "y is greater than x\n"
     ]
    }
   ],
   "source": [
    "x = 10\n",
    "y = 20\n",
    "if x > y:\n",
    "    print(\"x is greater than y\")\n",
    "    if x > 5:\n",
    "        print(\"x is greater than y and x is greater than 5\")\n",
    "        print(\"------------\")\n",
    "else:\n",
    "    print(\"y is greater than x\")"
   ]
  },
  {
   "cell_type": "markdown",
   "id": "f53d611e",
   "metadata": {},
   "source": [
    "### variables:\n",
    "These are used to store some values.\n",
    "\n",
    "### Types of variables:\n",
    "1. Local variables\n",
    "2. Global variables"
   ]
  },
  {
   "cell_type": "code",
   "execution_count": 23,
   "id": "8069f05b",
   "metadata": {},
   "outputs": [],
   "source": [
    "x = 10"
   ]
  },
  {
   "cell_type": "code",
   "execution_count": 24,
   "id": "d7acb1b8",
   "metadata": {},
   "outputs": [
    {
     "data": {
      "text/plain": [
       "int"
      ]
     },
     "execution_count": 24,
     "metadata": {},
     "output_type": "execute_result"
    }
   ],
   "source": [
    "type(x)"
   ]
  },
  {
   "cell_type": "markdown",
   "id": "d4abe9aa",
   "metadata": {},
   "source": [
    "### Input and Output functions\n",
    "1. print() ==> print(value, sep=' ', end='\\n')\n",
    "2. input()"
   ]
  },
  {
   "cell_type": "code",
   "execution_count": 1,
   "id": "e0dee771",
   "metadata": {},
   "outputs": [
    {
     "name": "stdout",
     "output_type": "stream",
     "text": [
      "Hello world!!\n"
     ]
    }
   ],
   "source": [
    "print(\"Hello world!!\")"
   ]
  },
  {
   "cell_type": "code",
   "execution_count": 3,
   "id": "a0efe1a8",
   "metadata": {},
   "outputs": [
    {
     "name": "stdout",
     "output_type": "stream",
     "text": [
      "10 $ 20 $ 30\n"
     ]
    }
   ],
   "source": [
    "a = 10\n",
    "b = 20\n",
    "c = 30\n",
    "print(a,b,c,sep=\" $ \")"
   ]
  },
  {
   "cell_type": "code",
   "execution_count": 4,
   "id": "91168ebf",
   "metadata": {},
   "outputs": [
    {
     "name": "stdout",
     "output_type": "stream",
     "text": [
      "10\n",
      "20\n",
      "30\n"
     ]
    }
   ],
   "source": [
    "print(a,end=\"   \")\n",
    "print(b)\n",
    "print(c)"
   ]
  },
  {
   "cell_type": "markdown",
   "id": "6f902125",
   "metadata": {},
   "source": [
    "### Exercise:\n",
    "1. Accept two values from the user ==> name and roll number\n",
    "2. input : name = 'preeti' ,roll_no = 1\n",
    "3. output : My name is preeti and roll number is 1"
   ]
  },
  {
   "cell_type": "code",
   "execution_count": 5,
   "id": "2e41d754",
   "metadata": {},
   "outputs": [
    {
     "name": "stdout",
     "output_type": "stream",
     "text": [
      "My name is preeti and roll number is 1\n"
     ]
    }
   ],
   "source": [
    "name = \"preeti\"\n",
    "roll_no = 1\n",
    "print(\"My name is\",name,\"and roll number is\",roll_no)"
   ]
  },
  {
   "cell_type": "code",
   "execution_count": 6,
   "id": "e038c8b1",
   "metadata": {},
   "outputs": [
    {
     "name": "stdout",
     "output_type": "stream",
     "text": [
      "My name is preeti and roll number is 1\n"
     ]
    }
   ],
   "source": [
    "print(\"My name is %s and roll number is %d\"%(name,roll_no))"
   ]
  },
  {
   "cell_type": "code",
   "execution_count": 7,
   "id": "1d7279fb",
   "metadata": {},
   "outputs": [
    {
     "name": "stdout",
     "output_type": "stream",
     "text": [
      "My name is preeti and roll number is 1\n"
     ]
    }
   ],
   "source": [
    "print(\"My name is {} and roll number is {}\".format(name,roll_no))"
   ]
  },
  {
   "cell_type": "code",
   "execution_count": 8,
   "id": "77951955",
   "metadata": {},
   "outputs": [
    {
     "name": "stdout",
     "output_type": "stream",
     "text": [
      "My name is preeti and roll number is 1 and 1\n"
     ]
    }
   ],
   "source": [
    "print(\"My name is {0} and roll number is {1} and {1}\".format(name,roll_no))"
   ]
  },
  {
   "cell_type": "code",
   "execution_count": 11,
   "id": "17afc3b4",
   "metadata": {},
   "outputs": [
    {
     "name": "stdout",
     "output_type": "stream",
     "text": [
      "My name is preeti and roll number is 1\n"
     ]
    }
   ],
   "source": [
    "print(f\"My name is {name} and roll number is {roll_no}\")"
   ]
  },
  {
   "cell_type": "code",
   "execution_count": 15,
   "id": "e8da58ed",
   "metadata": {},
   "outputs": [
    {
     "name": "stdout",
     "output_type": "stream",
     "text": [
      "Enter name:preeti\n",
      "Enter roll number:1\n",
      "<class 'str'> <class 'int'>\n",
      "My name is preeti and roll number is 1\n"
     ]
    }
   ],
   "source": [
    "name = input(\"Enter name:\")\n",
    "roll_no = int(input(\"Enter roll number:\"))\n",
    "print(type(name),type(roll_no))\n",
    "print(f\"My name is {name} and roll number is {roll_no}\")"
   ]
  },
  {
   "cell_type": "markdown",
   "id": "6b55ed28",
   "metadata": {},
   "source": [
    "### Exercise:\n",
    "1. Accept 3 values from the user from run time ==> name(str),emp_id(int),salary(float)\n",
    "2. output : My name is xxxx emp id is xx and salary is xxxx\n",
    "3. use Three print() statements "
   ]
  },
  {
   "cell_type": "code",
   "execution_count": 16,
   "id": "90540886",
   "metadata": {},
   "outputs": [
    {
     "name": "stdout",
     "output_type": "stream",
     "text": [
      "Enter name:preeti\n",
      "Enter emp_id:123\n",
      "Enter salary:45678\n",
      "My name is preeti emp id is 123 ans salary is 45678.0\n"
     ]
    }
   ],
   "source": [
    "name = input(\"Enter name:\")\n",
    "emp_id = int(input(\"Enter emp_id:\"))\n",
    "salary = float(input(\"Enter salary:\"))\n",
    "print(\"My name is\",name,end=\" \")\n",
    "print(\"emp id is\",emp_id,end=\" \")\n",
    "print(\"ans salary is\",salary)"
   ]
  },
  {
   "cell_type": "markdown",
   "id": "d1bc4fa1",
   "metadata": {},
   "source": [
    "### Data types:\n",
    "Data types are used to identify the type of the value which is assigned to the variable.\n",
    "### Types of Data types:\n",
    "1. Fundamental DT\n",
    "    1. int\n",
    "    2. float\n",
    "    3. complex\n",
    "    4. Boolean\n",
    "    5. String\n",
    "2. Collection DT\n",
    "    1. List\n",
    "    2. Tuple\n",
    "    3. set\n",
    "    4. Dictionary"
   ]
  },
  {
   "cell_type": "code",
   "execution_count": 18,
   "id": "c6df5107",
   "metadata": {},
   "outputs": [],
   "source": [
    "x = 10\n",
    "y = 20.56\n",
    "z = 3 + 5j "
   ]
  },
  {
   "cell_type": "code",
   "execution_count": 19,
   "id": "5c3cdd80",
   "metadata": {},
   "outputs": [
    {
     "data": {
      "text/plain": [
       "int"
      ]
     },
     "execution_count": 19,
     "metadata": {},
     "output_type": "execute_result"
    }
   ],
   "source": [
    "type(x)"
   ]
  },
  {
   "cell_type": "code",
   "execution_count": 20,
   "id": "d0960b9c",
   "metadata": {},
   "outputs": [
    {
     "data": {
      "text/plain": [
       "float"
      ]
     },
     "execution_count": 20,
     "metadata": {},
     "output_type": "execute_result"
    }
   ],
   "source": [
    "type(y)"
   ]
  },
  {
   "cell_type": "code",
   "execution_count": 21,
   "id": "859f58e1",
   "metadata": {},
   "outputs": [
    {
     "data": {
      "text/plain": [
       "complex"
      ]
     },
     "execution_count": 21,
     "metadata": {},
     "output_type": "execute_result"
    }
   ],
   "source": [
    "type(z)"
   ]
  },
  {
   "cell_type": "code",
   "execution_count": 22,
   "id": "b9cf2f05",
   "metadata": {},
   "outputs": [
    {
     "name": "stdout",
     "output_type": "stream",
     "text": [
      "3000.0 <class 'float'>\n"
     ]
    }
   ],
   "source": [
    "a = 30e2\n",
    "print(a,type(a))"
   ]
  },
  {
   "cell_type": "code",
   "execution_count": 23,
   "id": "6b15aa32",
   "metadata": {},
   "outputs": [
    {
     "data": {
      "text/plain": [
       "(3+5j)"
      ]
     },
     "execution_count": 23,
     "metadata": {},
     "output_type": "execute_result"
    }
   ],
   "source": [
    "z"
   ]
  },
  {
   "cell_type": "code",
   "execution_count": 24,
   "id": "1ca7aae4",
   "metadata": {},
   "outputs": [
    {
     "data": {
      "text/plain": [
       "3.0"
      ]
     },
     "execution_count": 24,
     "metadata": {},
     "output_type": "execute_result"
    }
   ],
   "source": [
    "z.real"
   ]
  },
  {
   "cell_type": "code",
   "execution_count": 25,
   "id": "ba9bcc1a",
   "metadata": {},
   "outputs": [
    {
     "data": {
      "text/plain": [
       "5.0"
      ]
     },
     "execution_count": 25,
     "metadata": {},
     "output_type": "execute_result"
    }
   ],
   "source": [
    "z.imag"
   ]
  },
  {
   "cell_type": "code",
   "execution_count": 26,
   "id": "118feff1",
   "metadata": {},
   "outputs": [],
   "source": [
    "c1 = 2 + 5j\n",
    "c2 = 1 - 2j"
   ]
  },
  {
   "cell_type": "code",
   "execution_count": 27,
   "id": "c087d084",
   "metadata": {},
   "outputs": [
    {
     "name": "stdout",
     "output_type": "stream",
     "text": [
      "(3+3j)\n",
      "(1+7j)\n",
      "(12+1j)\n",
      "(-1.6+1.8j)\n"
     ]
    }
   ],
   "source": [
    "print(c1 + c2)\n",
    "print(c1 - c2)\n",
    "print(c1 * c2)\n",
    "print(c1 / c2)"
   ]
  },
  {
   "cell_type": "code",
   "execution_count": 28,
   "id": "6118d389",
   "metadata": {},
   "outputs": [
    {
     "data": {
      "text/plain": [
       "True"
      ]
     },
     "execution_count": 28,
     "metadata": {},
     "output_type": "execute_result"
    }
   ],
   "source": [
    "10 < 20"
   ]
  },
  {
   "cell_type": "code",
   "execution_count": 29,
   "id": "4670ad03",
   "metadata": {},
   "outputs": [
    {
     "data": {
      "text/plain": [
       "False"
      ]
     },
     "execution_count": 29,
     "metadata": {},
     "output_type": "execute_result"
    }
   ],
   "source": [
    "10 == 20"
   ]
  },
  {
   "cell_type": "code",
   "execution_count": 30,
   "id": "44ea5b41",
   "metadata": {},
   "outputs": [],
   "source": [
    "s = 'abc'\n",
    "s1 = \"xyz\""
   ]
  },
  {
   "cell_type": "code",
   "execution_count": 31,
   "id": "2ce0b17f",
   "metadata": {},
   "outputs": [
    {
     "name": "stdout",
     "output_type": "stream",
     "text": [
      "<class 'str'> <class 'str'>\n"
     ]
    }
   ],
   "source": [
    "print(type(s),type(s1))"
   ]
  },
  {
   "cell_type": "code",
   "execution_count": 32,
   "id": "fdbb6735",
   "metadata": {},
   "outputs": [],
   "source": [
    "name = \"python programming\""
   ]
  },
  {
   "cell_type": "code",
   "execution_count": 33,
   "id": "b479b8c6",
   "metadata": {},
   "outputs": [
    {
     "data": {
      "text/plain": [
       "'thon'"
      ]
     },
     "execution_count": 33,
     "metadata": {},
     "output_type": "execute_result"
    }
   ],
   "source": [
    "name[2:6]"
   ]
  },
  {
   "cell_type": "code",
   "execution_count": 34,
   "id": "5655834f",
   "metadata": {},
   "outputs": [
    {
     "data": {
      "text/plain": [
       "'pto rgamn'"
      ]
     },
     "execution_count": 34,
     "metadata": {},
     "output_type": "execute_result"
    }
   ],
   "source": [
    "name[::2]"
   ]
  },
  {
   "cell_type": "code",
   "execution_count": 35,
   "id": "b28af4c3",
   "metadata": {},
   "outputs": [
    {
     "data": {
      "text/plain": [
       "'c'"
      ]
     },
     "execution_count": 35,
     "metadata": {},
     "output_type": "execute_result"
    }
   ],
   "source": [
    "name = \"abc\"\n",
    "name[-1]"
   ]
  },
  {
   "cell_type": "code",
   "execution_count": 36,
   "id": "e4dbc3e3",
   "metadata": {},
   "outputs": [
    {
     "data": {
      "text/plain": [
       "'cba'"
      ]
     },
     "execution_count": 36,
     "metadata": {},
     "output_type": "execute_result"
    }
   ],
   "source": [
    "name[::-1]"
   ]
  },
  {
   "cell_type": "markdown",
   "id": "7a7ca86d",
   "metadata": {},
   "source": [
    "### Accept a string from the user and check whether it is palindrome or not"
   ]
  },
  {
   "cell_type": "code",
   "execution_count": 37,
   "id": "320e744f",
   "metadata": {},
   "outputs": [
    {
     "name": "stdout",
     "output_type": "stream",
     "text": [
      "Enter a string:madam\n",
      "palindrome\n"
     ]
    }
   ],
   "source": [
    "s = input(\"Enter a string:\")\n",
    "if s == s[::-1]:\n",
    "    print(\"palindrome\")\n",
    "else:\n",
    "    print(\"not palindrome\")"
   ]
  },
  {
   "cell_type": "code",
   "execution_count": null,
   "id": "33a44ae6",
   "metadata": {},
   "outputs": [],
   "source": []
  }
 ],
 "metadata": {
  "kernelspec": {
   "display_name": "Python 3 (ipykernel)",
   "language": "python",
   "name": "python3"
  },
  "language_info": {
   "codemirror_mode": {
    "name": "ipython",
    "version": 3
   },
   "file_extension": ".py",
   "mimetype": "text/x-python",
   "name": "python",
   "nbconvert_exporter": "python",
   "pygments_lexer": "ipython3",
   "version": "3.11.5"
  }
 },
 "nbformat": 4,
 "nbformat_minor": 5
}
